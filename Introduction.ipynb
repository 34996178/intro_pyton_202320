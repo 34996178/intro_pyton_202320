{
  "nbformat": 4,
  "nbformat_minor": 0,
  "metadata": {
    "colab": {
      "provenance": [],
      "authorship_tag": "ABX9TyMix37muzKOODfHbv3AdHoA",
      "include_colab_link": true
    },
    "kernelspec": {
      "name": "python3",
      "display_name": "Python 3"
    },
    "language_info": {
      "name": "python"
    }
  },
  "cells": [
    {
      "cell_type": "markdown",
      "metadata": {
        "id": "view-in-github",
        "colab_type": "text"
      },
      "source": [
        "<a href=\"https://colab.research.google.com/github/34996178/intro_pyton_202320/blob/main/Introduction.ipynb\" target=\"_parent\"><img src=\"https://colab.research.google.com/assets/colab-badge.svg\" alt=\"Open In Colab\"/></a>"
      ]
    },
    {
      "cell_type": "markdown",
      "source": [
        "#Introducccion a Python\n",
        "##Curso de programacion y algoritmia UPB 202320\n",
        "- nombre: Ana María Rodriguez\n",
        "- id : 502314\n",
        "- email : ana.rodriguezb@upb.edu.co\n",
        "\n",
        "esta es la expresion de la linea recta\n",
        "$$y=mx+b$$"
      ],
      "metadata": {
        "id": "rZmQRxelhFO4"
      }
    },
    {
      "cell_type": "code",
      "source": [
        "# comentarios\n",
        "name = 'Ana'\n",
        "firstname = 'Rodriguez'\n",
        "age = '18 años'\n",
        "city = 'Montería'\n",
        "food = \"hamburguesa\"\n",
        "print(\"Hello,\", name, \"mi apellido es\", firstname, \"y tengo\", age, \"vivo en\" , city, \"y me gusta la\", food)\n",
        "\n"
      ],
      "metadata": {
        "colab": {
          "base_uri": "https://localhost:8080/"
        },
        "id": "mZMcbL-PrrCL",
        "outputId": "0e9a25ad-035b-4750-fce3-e62d6f6a61e0"
      },
      "execution_count": 6,
      "outputs": [
        {
          "output_type": "stream",
          "name": "stdout",
          "text": [
            "Hello, Ana mi apellido es Rodriguez y tengo 18 años vivo en Montería y me gusta la hamburguesa\n"
          ]
        }
      ]
    },
    {
      "cell_type": "code",
      "execution_count": null,
      "metadata": {
        "id": "TIBvBYOdgN3x"
      },
      "outputs": [],
      "source": [
        ""
      ]
    }
  ]
}