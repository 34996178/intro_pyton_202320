{
  "nbformat": 4,
  "nbformat_minor": 0,
  "metadata": {
    "colab": {
      "provenance": [],
      "authorship_tag": "ABX9TyMf1W9neXW2TrbAqCR6oMTt",
      "include_colab_link": true
    },
    "kernelspec": {
      "name": "python3",
      "display_name": "Python 3"
    },
    "language_info": {
      "name": "python"
    }
  },
  "cells": [
    {
      "cell_type": "markdown",
      "metadata": {
        "id": "view-in-github",
        "colab_type": "text"
      },
      "source": [
        "<a href=\"https://colab.research.google.com/github/34996178/intro_pyton_202320/blob/main/Introduction.ipynb\" target=\"_parent\"><img src=\"https://colab.research.google.com/assets/colab-badge.svg\" alt=\"Open In Colab\"/></a>"
      ]
    },
    {
      "cell_type": "markdown",
      "source": [
        "#Introducccion a Python\n",
        "##Curso de programacion y algoritmia UPB 202320\n",
        "- nombre: Ana María Rodriguez\n",
        "- id : 502314\n",
        "- email : ana.rodriguezb@upb.edu.co\n",
        "\n",
        "esta es la expresion de la linea recta\n",
        "$$y=mx+b$$"
      ],
      "metadata": {
        "id": "rZmQRxelhFO4"
      }
    },
    {
      "cell_type": "code",
      "execution_count": null,
      "metadata": {
        "id": "TIBvBYOdgN3x"
      },
      "outputs": [],
      "source": []
    }
  ]
}